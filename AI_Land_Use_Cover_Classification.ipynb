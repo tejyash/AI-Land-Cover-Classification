{
  "cells": [
    {
      "cell_type": "markdown",
      "metadata": {
        "id": "view-in-github",
        "colab_type": "text"
      },
      "source": [
        "<a href=\"https://colab.research.google.com/github/tejyash/AI-Land-Cover-Classification/blob/main/AI_Land_Use_Cover_Classification.ipynb\" target=\"_parent\"><img src=\"https://colab.research.google.com/assets/colab-badge.svg\" alt=\"Open In Colab\"/></a>"
      ]
    },
    {
      "cell_type": "markdown",
      "source": [
        "# 1. **Setup & Config + Tarun's Preprocesing**"
      ],
      "metadata": {
        "id": "GK95VlVBoWM6"
      },
      "id": "GK95VlVBoWM6"
    },
    {
      "cell_type": "code",
      "execution_count": null,
      "id": "3842b412-363c-4890-9392-1aafed31428a",
      "metadata": {
        "colab": {
          "base_uri": "https://localhost:8080/"
        },
        "id": "3842b412-363c-4890-9392-1aafed31428a",
        "outputId": "d87c3f79-c660-404c-e0b7-49f1ee8bfd7d"
      },
      "outputs": [
        {
          "output_type": "stream",
          "name": "stdout",
          "text": [
            "Using device: cuda\n"
          ]
        }
      ],
      "source": [
        "# IMPORTS & CONFIGURATION\n",
        "import os\n",
        "import random\n",
        "import numpy as np\n",
        "import pandas as pd\n",
        "import torch\n",
        "import torch.nn as nn\n",
        "import torch.optim as optim\n",
        "from torchvision import datasets, transforms, models\n",
        "from torch.utils.data import DataLoader, Subset, Dataset\n",
        "from sklearn.model_selection import train_test_split\n",
        "import matplotlib.pyplot as plt\n",
        "import osgeo\n",
        "from osgeo import gdal\n",
        "import pandas as pd\n",
        "\n",
        "# Tej's Proposed Change for Tarun's Dataset: fixing random seeds for full reproducibility\n",
        "seed = 42\n",
        "random.seed(seed)\n",
        "np.random.seed(seed)\n",
        "torch.manual_seed(seed)\n",
        "torch.cuda.manual_seed_all(seed)\n",
        "\n",
        "# Device setup\n",
        "device = torch.device('cuda' if torch.cuda.is_available() else 'cpu')\n",
        "print(f\"Using device: {device}\")"
      ]
    },
    {
      "cell_type": "markdown",
      "source": [
        "# **2.Tarun's Data Loading & Validation**"
      ],
      "metadata": {
        "id": "fVTS1d_woZuF"
      },
      "id": "fVTS1d_woZuF"
    },
    {
      "cell_type": "code",
      "source": [
        "# Hardeep: Downloaded the dataset using this code for efficiency\n",
        "import kagglehub\n",
        "# Download latest version\n",
        "path = kagglehub.dataset_download(\"apollo2506/eurosat-dataset\")\n",
        "print(\"Path to dataset files:\", path)"
      ],
      "metadata": {
        "colab": {
          "base_uri": "https://localhost:8080/"
        },
        "id": "hMtL8KYdDzgc",
        "outputId": "96174965-8518-4913-f267-1020a1d18612"
      },
      "id": "hMtL8KYdDzgc",
      "execution_count": null,
      "outputs": [
        {
          "output_type": "stream",
          "name": "stdout",
          "text": [
            "Path to dataset files: /kaggle/input/eurosat-dataset\n"
          ]
        }
      ]
    },
    {
      "cell_type": "code",
      "execution_count": null,
      "id": "4c499726-4f6b-4e35-a48e-6026dd3f98f5",
      "metadata": {
        "colab": {
          "base_uri": "https://localhost:8080/"
        },
        "id": "4c499726-4f6b-4e35-a48e-6026dd3f98f5",
        "outputId": "3cffc7c1-df0c-49dd-9b09-019af3652aff"
      },
      "outputs": [
        {
          "output_type": "stream",
          "name": "stdout",
          "text": [
            "Classes found: ['SeaLake', 'Highway', 'River', 'Pasture', 'Industrial', 'Residential', 'PermanentCrop', 'validation.csv', 'AnnualCrop', 'train.csv', 'test.csv', 'label_map.json', 'Forest', 'HerbaceousVegetation']\n"
          ]
        }
      ],
      "source": [
        "# DEFINE & VALIDATE DATA PATH\n",
        "# data_dir = os.path.join(os.getcwd(), 'data', 'raw')\n",
        "data_dir = f\"{path}/EuroSATallBands\" # Hardeep\n",
        "\n",
        "# Tej's Proposed Change: check dataset existence early to avoid issues later\n",
        "if not os.path.isdir(data_dir):\n",
        "    raise FileNotFoundError(f\"Data directory not found: {data_dir}\")\n",
        "print(\"Classes found:\", os.listdir(data_dir))"
      ]
    },
    {
      "cell_type": "markdown",
      "id": "f9aacb44-268f-4385-afdb-6a1148888ba9",
      "metadata": {
        "id": "f9aacb44-268f-4385-afdb-6a1148888ba9"
      },
      "source": [
        "**3. Tarun's Compute Dataset Mean & Std**"
      ]
    },
    {
      "cell_type": "code",
      "source": [
        "# Hardeep - created custom dataset class to allow calculating per-channel statistics\n",
        "class DatasetForStats(Dataset):\n",
        "\n",
        "  def __init__(self, root, labels, transform=None):\n",
        "    self.root = root\n",
        "    self.labels = pd.read_csv(labels)\n",
        "    self.transform = transform\n",
        "\n",
        "  def __len__(self):\n",
        "    return len(self.labels)\n",
        "\n",
        "  def __getitem__(self, idx):\n",
        "    img_file = self.labels.iloc[idx, 0]\n",
        "    img_path = os.path.join(self.root, img_file)\n",
        "    image = gdal.Open(img_path)\n",
        "    bands = [\"\"] * 13\n",
        "    for i in range(13):\n",
        "      bands[i] = image.GetRasterBand(i+1)\n",
        "      bands[i] = bands[i].ReadAsArray()\n",
        "      bands[i] = torch.from_numpy(bands[i])\n",
        "    return bands"
      ],
      "metadata": {
        "id": "9BNYiEuGeiNS"
      },
      "id": "9BNYiEuGeiNS",
      "execution_count": null,
      "outputs": []
    },
    {
      "cell_type": "code",
      "execution_count": null,
      "id": "65206a80-43ce-4386-ae24-71d8dd4dcfa5",
      "metadata": {
        "colab": {
          "base_uri": "https://localhost:8080/"
        },
        "id": "65206a80-43ce-4386-ae24-71d8dd4dcfa5",
        "outputId": "e3d95073-e98c-459e-f661-135c1f3203b8",
        "collapsed": true
      },
      "outputs": [
        {
          "output_type": "stream",
          "name": "stdout",
          "text": [
            "Computed mean: 42.33356475830078\n",
            "Computed std:  7.421943664550781\n",
            "Computed mean: 34.87467956542969\n",
            "Computed std:  10.12856674194336\n",
            "Computed mean: 32.307899475097656\n",
            "Computed std:  12.140202522277832\n",
            "Computed mean: 29.226303100585938\n",
            "Computed std:  18.232240676879883\n",
            "Computed mean: 36.90873718261719\n",
            "Computed std:  17.64769172668457\n",
            "Computed mean: 61.43389129638672\n",
            "Computed std:  27.19117546081543\n",
            "Computed mean: 72.7497787475586\n",
            "Computed std:  34.214168548583984\n",
            "Computed mean: 70.4899673461914\n",
            "Computed std:  35.16450881958008\n",
            "Computed mean: 22.613801956176758\n",
            "Computed std:  12.351040840148926\n",
            "Computed mean: 0.41103067994117737\n",
            "Computed std:  0.23727059364318848\n",
            "Computed mean: 55.6640510559082\n",
            "Computed std:  31.545873641967773\n",
            "Computed mean: 34.32841873168945\n",
            "Computed std:  23.529285430908203\n",
            "Computed mean: 79.51321411132812\n",
            "Computed std:  38.938079833984375\n"
          ]
        }
      ],
      "source": [
        "# CALCULATE PER‑CHANNEL MEAN/STD (RGB)\n",
        "stats_transform = transforms.Compose([\n",
        "    transforms.Resize((64,64)),\n",
        "])\n",
        "dataset_for_stats = DatasetForStats(\n",
        "    root = data_dir, labels = f\"{data_dir}/train.csv\", transform = None\n",
        ")\n",
        "# Hardeep - changed num workers to 2 and changed batch size to 32\n",
        "loader_stats = DataLoader(dataset_for_stats, batch_size=32, shuffle=False, num_workers=2)\n",
        "# Hardeep - made means and stds into lists\n",
        "means = [0] * 13\n",
        "stds  = [0] * 13\n",
        "nb_samples = [0] * 13\n",
        "\n",
        "for bands in loader_stats:\n",
        "  for i in range(13):\n",
        "    band = bands[i]\n",
        "    batch_samples = band.size(0)\n",
        "    band = band.view(batch_samples, band.size(1), -1)\n",
        "    band = band.float()\n",
        "    means[i] += torch.mean(band)\n",
        "    stds[i]  += torch.std(band)\n",
        "    nb_samples[i] += batch_samples\n",
        "\n",
        "# Hardeep - prints mean and std per band\n",
        "for i in range(13):\n",
        "  means[i] /= nb_samples[i]\n",
        "  stds[i]  /= nb_samples[i]\n",
        "  print(\"Computed mean:\", means[i].item())\n",
        "  print(\"Computed std: \", stds[i].item())"
      ]
    },
    {
      "cell_type": "code",
      "source": [
        "# Hardeep - made custom dataset class to be main dataset class\n",
        "class ImageClassificationDataset(Dataset):\n",
        "\n",
        "  def __init__(self, root, labels, transform=None):\n",
        "    self.root = root\n",
        "    self.labels = pd.read_csv(labels)\n",
        "    self.transform = transform\n",
        "\n",
        "  def __len__(self):\n",
        "    return len(self.labels)\n",
        "\n",
        "  def __getitem__(self, idx):\n",
        "    img_file = self.labels.iloc[idx, 0]\n",
        "    img_path = os.path.join(self.root, img_file)\n",
        "    image = gdal.Open(img_path)\n",
        "    bands = [\"\"] * 13\n",
        "    for i in range(13):\n",
        "      bands[i] = image.GetRasterBand(i+1)\n",
        "      bands[i] = bands[i].ReadAsArray()\n",
        "    image = np.stack(bands)\n",
        "    image = torch.from_numpy(image)\n",
        "    image = image.float()\n",
        "    label = self.labels.iloc[idx, 1]\n",
        "    if self.transform:\n",
        "      image = self.transform(image)\n",
        "    return image, label"
      ],
      "metadata": {
        "id": "DfW_KkSg6LbU"
      },
      "id": "DfW_KkSg6LbU",
      "execution_count": null,
      "outputs": []
    },
    {
      "cell_type": "markdown",
      "id": "a7af37ec-75e4-435b-b281-4bc6f04c43bd",
      "metadata": {
        "id": "a7af37ec-75e4-435b-b281-4bc6f04c43bd"
      },
      "source": [
        "**4. Transforms & Augmentation**"
      ]
    },
    {
      "cell_type": "code",
      "execution_count": null,
      "id": "e723f18d-bdcd-4293-adf3-2e624196c208",
      "metadata": {
        "id": "e723f18d-bdcd-4293-adf3-2e624196c208"
      },
      "outputs": [],
      "source": [
        "# SET UP TRANSFORMS USING COMPUTED mean/std\n",
        "\n",
        "train_transform = transforms.Compose([\n",
        "    transforms.Resize((64,64)),\n",
        "\n",
        "    # Tej's Addition: stronger augmentations added\n",
        "\n",
        "    transforms.RandomResizedCrop(64, scale=(0.8,1.0)),\n",
        "    transforms.RandomHorizontalFlip(),\n",
        "    transforms.RandomVerticalFlip(),\n",
        "    # transforms.ColorJitter(brightness=0.2, contrast=0.2, saturation=0.2),\n",
        "    transforms.Normalize(means, stds)\n",
        "])\n",
        "\n",
        "test_transform = transforms.Compose([\n",
        "    transforms.Resize((64,64)),\n",
        "    transforms.Normalize(means, stds)\n",
        "])"
      ]
    },
    {
      "cell_type": "markdown",
      "id": "892dd6f2-eeb5-40ea-8802-518040b8a71a",
      "metadata": {
        "id": "892dd6f2-eeb5-40ea-8802-518040b8a71a"
      },
      "source": [
        "**5. Train/Val/Test Split**"
      ]
    },
    {
      "cell_type": "code",
      "source": [
        "# Hardeep - created new train, val and test sets to reflect splits provided in EuroSAT\n",
        "train_dataset = ImageClassificationDataset(\n",
        "    root = data_dir, labels = f\"{data_dir}/train.csv\", transform = train_transform\n",
        ")\n",
        "val_dataset = ImageClassificationDataset(\n",
        "    root = data_dir, labels = f\"{data_dir}/validation.csv\", transform = test_transform\n",
        ")\n",
        "test_dataset = ImageClassificationDataset(\n",
        "    root = data_dir, labels = f\"{data_dir}/test.csv\", transform = test_transform\n",
        ")"
      ],
      "metadata": {
        "id": "fi4vs2fFWiQF"
      },
      "id": "fi4vs2fFWiQF",
      "execution_count": null,
      "outputs": []
    },
    {
      "cell_type": "code",
      "execution_count": null,
      "id": "357e637f-9b4d-4bb7-bb98-61fe7161723a",
      "metadata": {
        "colab": {
          "base_uri": "https://localhost:8080/"
        },
        "id": "357e637f-9b4d-4bb7-bb98-61fe7161723a",
        "outputId": "d0513c87-f97b-492e-9e36-596d5259ecd6"
      },
      "outputs": [
        {
          "output_type": "stream",
          "name": "stdout",
          "text": [
            "Train: 19317 samples\n",
            "Val:   5519 samples\n",
            "Test:  2759 samples\n"
          ]
        }
      ],
      "source": [
        "#  SPLITTING INTO TRAIN, VAL, TEST\n",
        "\n",
        "# full_dataset = datasets.ImageFolder(root=data_dir)\n",
        "# targets = np.array(full_dataset.targets)\n",
        "\n",
        "# # 10% hold‑out test\n",
        "# train_val_idx, test_idx = train_test_split(\n",
        "#     np.arange(len(targets)),\n",
        "#     test_size=0.1,\n",
        "#     stratify=targets,\n",
        "#     random_state=seed\n",
        "# )\n",
        "\n",
        "# # From remaining 90%, 20% → validation\n",
        "# train_idx, val_idx = train_test_split(\n",
        "#     train_val_idx,\n",
        "#     test_size=0.2,\n",
        "#     stratify=targets[train_val_idx],\n",
        "#     random_state=seed\n",
        "# )\n",
        "\n",
        "# # Build Subsets with appropriate transforms\n",
        "# train_dataset = Subset(\n",
        "#     datasets.ImageFolder(root=data_dir, transform=train_transform),\n",
        "#     train_idx\n",
        "# )\n",
        "# val_dataset = Subset(\n",
        "#     datasets.ImageFolder(root=data_dir, transform=test_transform),\n",
        "#     val_idx\n",
        "# )\n",
        "# test_dataset = Subset(\n",
        "#     datasets.ImageFolder(root=data_dir, transform=test_transform),\n",
        "#     test_idx\n",
        "# )\n",
        "\n",
        "print(f\"Train: {len(train_dataset)} samples\")\n",
        "print(f\"Val:   {len(val_dataset)} samples\")\n",
        "print(f\"Test:  {len(test_dataset)} samples\")"
      ]
    },
    {
      "cell_type": "markdown",
      "id": "8fa00862-8505-4fb4-8d01-20003a289b5f",
      "metadata": {
        "id": "8fa00862-8505-4fb4-8d01-20003a289b5f"
      },
      "source": [
        "**6. Creating the Dataloaders**"
      ]
    },
    {
      "cell_type": "code",
      "execution_count": null,
      "id": "1f6ef982-d13e-4bda-a56d-698f41bf9c08",
      "metadata": {
        "id": "1f6ef982-d13e-4bda-a56d-698f41bf9c08"
      },
      "outputs": [],
      "source": [
        "batch_size = 32\n",
        "num_workers = min(4, os.cpu_count()//2)  # Tej's Proposed: adapting to CPU cores\n",
        "\n",
        "train_loader = DataLoader(\n",
        "    train_dataset,\n",
        "    batch_size=batch_size,\n",
        "    shuffle=True,\n",
        "    num_workers=num_workers,\n",
        "    pin_memory=True\n",
        ")\n",
        "\n",
        "val_loader = DataLoader(\n",
        "    val_dataset,\n",
        "    batch_size=batch_size,\n",
        "    shuffle=False,\n",
        "    num_workers=num_workers,\n",
        "    pin_memory=True\n",
        ")\n",
        "\n",
        "test_loader = DataLoader(\n",
        "    test_dataset,\n",
        "    batch_size=batch_size,\n",
        "    shuffle=False,\n",
        "    num_workers=num_workers,\n",
        "    pin_memory=True\n",
        ")"
      ]
    },
    {
      "cell_type": "markdown",
      "id": "d877b9d5-028e-4e36-9893-7098dabf6d62",
      "metadata": {
        "id": "d877b9d5-028e-4e36-9893-7098dabf6d62"
      },
      "source": [
        "**Hardeep's ResNet Setup**"
      ]
    },
    {
      "cell_type": "code",
      "execution_count": null,
      "id": "ef2f2d82-92b4-49ec-8854-faa45ec8bac4",
      "metadata": {
        "colab": {
          "base_uri": "https://localhost:8080/"
        },
        "id": "ef2f2d82-92b4-49ec-8854-faa45ec8bac4",
        "outputId": "13bea176-3ee9-45db-dfdc-ab53b491cbee",
        "collapsed": true
      },
      "outputs": [
        {
          "output_type": "stream",
          "name": "stderr",
          "text": [
            "/usr/local/lib/python3.11/dist-packages/torchvision/models/_utils.py:208: UserWarning: The parameter 'pretrained' is deprecated since 0.13 and may be removed in the future, please use 'weights' instead.\n",
            "  warnings.warn(\n",
            "/usr/local/lib/python3.11/dist-packages/torchvision/models/_utils.py:223: UserWarning: Arguments other than a weight enum or `None` for 'weights' are deprecated since 0.13 and may be removed in the future. The current behavior is equivalent to passing `weights=ResNet50_Weights.IMAGENET1K_V1`. You can also use `weights=ResNet50_Weights.DEFAULT` to get the most up-to-date weights.\n",
            "  warnings.warn(msg)\n"
          ]
        },
        {
          "output_type": "stream",
          "name": "stdout",
          "text": [
            "ResNet(\n",
            "  (conv1): Conv2d(13, 64, kernel_size=(7, 7), stride=(2, 2), padding=(3, 3), bias=False)\n",
            "  (bn1): BatchNorm2d(64, eps=1e-05, momentum=0.1, affine=True, track_running_stats=True)\n",
            "  (relu): ReLU(inplace=True)\n",
            "  (maxpool): MaxPool2d(kernel_size=3, stride=2, padding=1, dilation=1, ceil_mode=False)\n",
            "  (layer1): Sequential(\n",
            "    (0): Bottleneck(\n",
            "      (conv1): Conv2d(64, 64, kernel_size=(1, 1), stride=(1, 1), bias=False)\n",
            "      (bn1): BatchNorm2d(64, eps=1e-05, momentum=0.1, affine=True, track_running_stats=True)\n",
            "      (conv2): Conv2d(64, 64, kernel_size=(3, 3), stride=(1, 1), padding=(1, 1), bias=False)\n",
            "      (bn2): BatchNorm2d(64, eps=1e-05, momentum=0.1, affine=True, track_running_stats=True)\n",
            "      (conv3): Conv2d(64, 256, kernel_size=(1, 1), stride=(1, 1), bias=False)\n",
            "      (bn3): BatchNorm2d(256, eps=1e-05, momentum=0.1, affine=True, track_running_stats=True)\n",
            "      (relu): ReLU(inplace=True)\n",
            "      (downsample): Sequential(\n",
            "        (0): Conv2d(64, 256, kernel_size=(1, 1), stride=(1, 1), bias=False)\n",
            "        (1): BatchNorm2d(256, eps=1e-05, momentum=0.1, affine=True, track_running_stats=True)\n",
            "      )\n",
            "    )\n",
            "    (1): Bottleneck(\n",
            "      (conv1): Conv2d(256, 64, kernel_size=(1, 1), stride=(1, 1), bias=False)\n",
            "      (bn1): BatchNorm2d(64, eps=1e-05, momentum=0.1, affine=True, track_running_stats=True)\n",
            "      (conv2): Conv2d(64, 64, kernel_size=(3, 3), stride=(1, 1), padding=(1, 1), bias=False)\n",
            "      (bn2): BatchNorm2d(64, eps=1e-05, momentum=0.1, affine=True, track_running_stats=True)\n",
            "      (conv3): Conv2d(64, 256, kernel_size=(1, 1), stride=(1, 1), bias=False)\n",
            "      (bn3): BatchNorm2d(256, eps=1e-05, momentum=0.1, affine=True, track_running_stats=True)\n",
            "      (relu): ReLU(inplace=True)\n",
            "    )\n",
            "    (2): Bottleneck(\n",
            "      (conv1): Conv2d(256, 64, kernel_size=(1, 1), stride=(1, 1), bias=False)\n",
            "      (bn1): BatchNorm2d(64, eps=1e-05, momentum=0.1, affine=True, track_running_stats=True)\n",
            "      (conv2): Conv2d(64, 64, kernel_size=(3, 3), stride=(1, 1), padding=(1, 1), bias=False)\n",
            "      (bn2): BatchNorm2d(64, eps=1e-05, momentum=0.1, affine=True, track_running_stats=True)\n",
            "      (conv3): Conv2d(64, 256, kernel_size=(1, 1), stride=(1, 1), bias=False)\n",
            "      (bn3): BatchNorm2d(256, eps=1e-05, momentum=0.1, affine=True, track_running_stats=True)\n",
            "      (relu): ReLU(inplace=True)\n",
            "    )\n",
            "  )\n",
            "  (layer2): Sequential(\n",
            "    (0): Bottleneck(\n",
            "      (conv1): Conv2d(256, 128, kernel_size=(1, 1), stride=(1, 1), bias=False)\n",
            "      (bn1): BatchNorm2d(128, eps=1e-05, momentum=0.1, affine=True, track_running_stats=True)\n",
            "      (conv2): Conv2d(128, 128, kernel_size=(3, 3), stride=(2, 2), padding=(1, 1), bias=False)\n",
            "      (bn2): BatchNorm2d(128, eps=1e-05, momentum=0.1, affine=True, track_running_stats=True)\n",
            "      (conv3): Conv2d(128, 512, kernel_size=(1, 1), stride=(1, 1), bias=False)\n",
            "      (bn3): BatchNorm2d(512, eps=1e-05, momentum=0.1, affine=True, track_running_stats=True)\n",
            "      (relu): ReLU(inplace=True)\n",
            "      (downsample): Sequential(\n",
            "        (0): Conv2d(256, 512, kernel_size=(1, 1), stride=(2, 2), bias=False)\n",
            "        (1): BatchNorm2d(512, eps=1e-05, momentum=0.1, affine=True, track_running_stats=True)\n",
            "      )\n",
            "    )\n",
            "    (1): Bottleneck(\n",
            "      (conv1): Conv2d(512, 128, kernel_size=(1, 1), stride=(1, 1), bias=False)\n",
            "      (bn1): BatchNorm2d(128, eps=1e-05, momentum=0.1, affine=True, track_running_stats=True)\n",
            "      (conv2): Conv2d(128, 128, kernel_size=(3, 3), stride=(1, 1), padding=(1, 1), bias=False)\n",
            "      (bn2): BatchNorm2d(128, eps=1e-05, momentum=0.1, affine=True, track_running_stats=True)\n",
            "      (conv3): Conv2d(128, 512, kernel_size=(1, 1), stride=(1, 1), bias=False)\n",
            "      (bn3): BatchNorm2d(512, eps=1e-05, momentum=0.1, affine=True, track_running_stats=True)\n",
            "      (relu): ReLU(inplace=True)\n",
            "    )\n",
            "    (2): Bottleneck(\n",
            "      (conv1): Conv2d(512, 128, kernel_size=(1, 1), stride=(1, 1), bias=False)\n",
            "      (bn1): BatchNorm2d(128, eps=1e-05, momentum=0.1, affine=True, track_running_stats=True)\n",
            "      (conv2): Conv2d(128, 128, kernel_size=(3, 3), stride=(1, 1), padding=(1, 1), bias=False)\n",
            "      (bn2): BatchNorm2d(128, eps=1e-05, momentum=0.1, affine=True, track_running_stats=True)\n",
            "      (conv3): Conv2d(128, 512, kernel_size=(1, 1), stride=(1, 1), bias=False)\n",
            "      (bn3): BatchNorm2d(512, eps=1e-05, momentum=0.1, affine=True, track_running_stats=True)\n",
            "      (relu): ReLU(inplace=True)\n",
            "    )\n",
            "    (3): Bottleneck(\n",
            "      (conv1): Conv2d(512, 128, kernel_size=(1, 1), stride=(1, 1), bias=False)\n",
            "      (bn1): BatchNorm2d(128, eps=1e-05, momentum=0.1, affine=True, track_running_stats=True)\n",
            "      (conv2): Conv2d(128, 128, kernel_size=(3, 3), stride=(1, 1), padding=(1, 1), bias=False)\n",
            "      (bn2): BatchNorm2d(128, eps=1e-05, momentum=0.1, affine=True, track_running_stats=True)\n",
            "      (conv3): Conv2d(128, 512, kernel_size=(1, 1), stride=(1, 1), bias=False)\n",
            "      (bn3): BatchNorm2d(512, eps=1e-05, momentum=0.1, affine=True, track_running_stats=True)\n",
            "      (relu): ReLU(inplace=True)\n",
            "    )\n",
            "  )\n",
            "  (layer3): Sequential(\n",
            "    (0): Bottleneck(\n",
            "      (conv1): Conv2d(512, 256, kernel_size=(1, 1), stride=(1, 1), bias=False)\n",
            "      (bn1): BatchNorm2d(256, eps=1e-05, momentum=0.1, affine=True, track_running_stats=True)\n",
            "      (conv2): Conv2d(256, 256, kernel_size=(3, 3), stride=(2, 2), padding=(1, 1), bias=False)\n",
            "      (bn2): BatchNorm2d(256, eps=1e-05, momentum=0.1, affine=True, track_running_stats=True)\n",
            "      (conv3): Conv2d(256, 1024, kernel_size=(1, 1), stride=(1, 1), bias=False)\n",
            "      (bn3): BatchNorm2d(1024, eps=1e-05, momentum=0.1, affine=True, track_running_stats=True)\n",
            "      (relu): ReLU(inplace=True)\n",
            "      (downsample): Sequential(\n",
            "        (0): Conv2d(512, 1024, kernel_size=(1, 1), stride=(2, 2), bias=False)\n",
            "        (1): BatchNorm2d(1024, eps=1e-05, momentum=0.1, affine=True, track_running_stats=True)\n",
            "      )\n",
            "    )\n",
            "    (1): Bottleneck(\n",
            "      (conv1): Conv2d(1024, 256, kernel_size=(1, 1), stride=(1, 1), bias=False)\n",
            "      (bn1): BatchNorm2d(256, eps=1e-05, momentum=0.1, affine=True, track_running_stats=True)\n",
            "      (conv2): Conv2d(256, 256, kernel_size=(3, 3), stride=(1, 1), padding=(1, 1), bias=False)\n",
            "      (bn2): BatchNorm2d(256, eps=1e-05, momentum=0.1, affine=True, track_running_stats=True)\n",
            "      (conv3): Conv2d(256, 1024, kernel_size=(1, 1), stride=(1, 1), bias=False)\n",
            "      (bn3): BatchNorm2d(1024, eps=1e-05, momentum=0.1, affine=True, track_running_stats=True)\n",
            "      (relu): ReLU(inplace=True)\n",
            "    )\n",
            "    (2): Bottleneck(\n",
            "      (conv1): Conv2d(1024, 256, kernel_size=(1, 1), stride=(1, 1), bias=False)\n",
            "      (bn1): BatchNorm2d(256, eps=1e-05, momentum=0.1, affine=True, track_running_stats=True)\n",
            "      (conv2): Conv2d(256, 256, kernel_size=(3, 3), stride=(1, 1), padding=(1, 1), bias=False)\n",
            "      (bn2): BatchNorm2d(256, eps=1e-05, momentum=0.1, affine=True, track_running_stats=True)\n",
            "      (conv3): Conv2d(256, 1024, kernel_size=(1, 1), stride=(1, 1), bias=False)\n",
            "      (bn3): BatchNorm2d(1024, eps=1e-05, momentum=0.1, affine=True, track_running_stats=True)\n",
            "      (relu): ReLU(inplace=True)\n",
            "    )\n",
            "    (3): Bottleneck(\n",
            "      (conv1): Conv2d(1024, 256, kernel_size=(1, 1), stride=(1, 1), bias=False)\n",
            "      (bn1): BatchNorm2d(256, eps=1e-05, momentum=0.1, affine=True, track_running_stats=True)\n",
            "      (conv2): Conv2d(256, 256, kernel_size=(3, 3), stride=(1, 1), padding=(1, 1), bias=False)\n",
            "      (bn2): BatchNorm2d(256, eps=1e-05, momentum=0.1, affine=True, track_running_stats=True)\n",
            "      (conv3): Conv2d(256, 1024, kernel_size=(1, 1), stride=(1, 1), bias=False)\n",
            "      (bn3): BatchNorm2d(1024, eps=1e-05, momentum=0.1, affine=True, track_running_stats=True)\n",
            "      (relu): ReLU(inplace=True)\n",
            "    )\n",
            "    (4): Bottleneck(\n",
            "      (conv1): Conv2d(1024, 256, kernel_size=(1, 1), stride=(1, 1), bias=False)\n",
            "      (bn1): BatchNorm2d(256, eps=1e-05, momentum=0.1, affine=True, track_running_stats=True)\n",
            "      (conv2): Conv2d(256, 256, kernel_size=(3, 3), stride=(1, 1), padding=(1, 1), bias=False)\n",
            "      (bn2): BatchNorm2d(256, eps=1e-05, momentum=0.1, affine=True, track_running_stats=True)\n",
            "      (conv3): Conv2d(256, 1024, kernel_size=(1, 1), stride=(1, 1), bias=False)\n",
            "      (bn3): BatchNorm2d(1024, eps=1e-05, momentum=0.1, affine=True, track_running_stats=True)\n",
            "      (relu): ReLU(inplace=True)\n",
            "    )\n",
            "    (5): Bottleneck(\n",
            "      (conv1): Conv2d(1024, 256, kernel_size=(1, 1), stride=(1, 1), bias=False)\n",
            "      (bn1): BatchNorm2d(256, eps=1e-05, momentum=0.1, affine=True, track_running_stats=True)\n",
            "      (conv2): Conv2d(256, 256, kernel_size=(3, 3), stride=(1, 1), padding=(1, 1), bias=False)\n",
            "      (bn2): BatchNorm2d(256, eps=1e-05, momentum=0.1, affine=True, track_running_stats=True)\n",
            "      (conv3): Conv2d(256, 1024, kernel_size=(1, 1), stride=(1, 1), bias=False)\n",
            "      (bn3): BatchNorm2d(1024, eps=1e-05, momentum=0.1, affine=True, track_running_stats=True)\n",
            "      (relu): ReLU(inplace=True)\n",
            "    )\n",
            "  )\n",
            "  (layer4): Sequential(\n",
            "    (0): Bottleneck(\n",
            "      (conv1): Conv2d(1024, 512, kernel_size=(1, 1), stride=(1, 1), bias=False)\n",
            "      (bn1): BatchNorm2d(512, eps=1e-05, momentum=0.1, affine=True, track_running_stats=True)\n",
            "      (conv2): Conv2d(512, 512, kernel_size=(3, 3), stride=(2, 2), padding=(1, 1), bias=False)\n",
            "      (bn2): BatchNorm2d(512, eps=1e-05, momentum=0.1, affine=True, track_running_stats=True)\n",
            "      (conv3): Conv2d(512, 2048, kernel_size=(1, 1), stride=(1, 1), bias=False)\n",
            "      (bn3): BatchNorm2d(2048, eps=1e-05, momentum=0.1, affine=True, track_running_stats=True)\n",
            "      (relu): ReLU(inplace=True)\n",
            "      (downsample): Sequential(\n",
            "        (0): Conv2d(1024, 2048, kernel_size=(1, 1), stride=(2, 2), bias=False)\n",
            "        (1): BatchNorm2d(2048, eps=1e-05, momentum=0.1, affine=True, track_running_stats=True)\n",
            "      )\n",
            "    )\n",
            "    (1): Bottleneck(\n",
            "      (conv1): Conv2d(2048, 512, kernel_size=(1, 1), stride=(1, 1), bias=False)\n",
            "      (bn1): BatchNorm2d(512, eps=1e-05, momentum=0.1, affine=True, track_running_stats=True)\n",
            "      (conv2): Conv2d(512, 512, kernel_size=(3, 3), stride=(1, 1), padding=(1, 1), bias=False)\n",
            "      (bn2): BatchNorm2d(512, eps=1e-05, momentum=0.1, affine=True, track_running_stats=True)\n",
            "      (conv3): Conv2d(512, 2048, kernel_size=(1, 1), stride=(1, 1), bias=False)\n",
            "      (bn3): BatchNorm2d(2048, eps=1e-05, momentum=0.1, affine=True, track_running_stats=True)\n",
            "      (relu): ReLU(inplace=True)\n",
            "    )\n",
            "    (2): Bottleneck(\n",
            "      (conv1): Conv2d(2048, 512, kernel_size=(1, 1), stride=(1, 1), bias=False)\n",
            "      (bn1): BatchNorm2d(512, eps=1e-05, momentum=0.1, affine=True, track_running_stats=True)\n",
            "      (conv2): Conv2d(512, 512, kernel_size=(3, 3), stride=(1, 1), padding=(1, 1), bias=False)\n",
            "      (bn2): BatchNorm2d(512, eps=1e-05, momentum=0.1, affine=True, track_running_stats=True)\n",
            "      (conv3): Conv2d(512, 2048, kernel_size=(1, 1), stride=(1, 1), bias=False)\n",
            "      (bn3): BatchNorm2d(2048, eps=1e-05, momentum=0.1, affine=True, track_running_stats=True)\n",
            "      (relu): ReLU(inplace=True)\n",
            "    )\n",
            "  )\n",
            "  (avgpool): AdaptiveAvgPool2d(output_size=(1, 1))\n",
            "  (fc): Linear(in_features=2048, out_features=10, bias=True)\n",
            ")\n"
          ]
        }
      ],
      "source": [
        "# LOAD & ADAPT ResNet50\n",
        "# num_classes = len(full_dataset.classes)\n",
        "num_classes = 10\n",
        "\n",
        "model = models.resnet50(pretrained=True)\n",
        "# Tej's Proposed Option (to be discussed on MOnday): freeze early layers (if needed)\n",
        "for param in model.parameters():\n",
        "    param.requires_grad = True  # set False to freeze them\n",
        "\n",
        "# Replace final layer\n",
        "in_features = model.fc.in_features\n",
        "model.fc = nn.Linear(in_features, num_classes)\n",
        "# Hardeep - Changed input to first convolutional layer from 3 to 13 channels\n",
        "model.conv1 = nn.Conv2d(13, 64, kernel_size=(7, 7), stride=(2, 2), padding=(3, 3), bias=False) #\n",
        "model = model.to(device)\n",
        "\n",
        "print(model)"
      ]
    },
    {
      "cell_type": "markdown",
      "id": "7cd7dcca-bb1f-47a8-8828-8200b873a322",
      "metadata": {
        "id": "7cd7dcca-bb1f-47a8-8828-8200b873a322"
      },
      "source": [
        "**Tej's Training Loop Setup**"
      ]
    },
    {
      "cell_type": "code",
      "execution_count": null,
      "id": "b0bf401d-bb80-4e4e-a6be-2ae15d38a155",
      "metadata": {
        "id": "b0bf401d-bb80-4e4e-a6be-2ae15d38a155",
        "colab": {
          "base_uri": "https://localhost:8080/"
        },
        "outputId": "39475cb3-40d0-4581-d8c7-18bd2f451784"
      },
      "outputs": [
        {
          "output_type": "stream",
          "name": "stderr",
          "text": [
            "/usr/local/lib/python3.11/dist-packages/torch/optim/lr_scheduler.py:62: UserWarning: The verbose parameter is deprecated. Please use get_last_lr() to access the learning rate.\n",
            "  warnings.warn(\n"
          ]
        }
      ],
      "source": [
        "# DEFINE CRITERION, OPTIMISER, SCHEDULER\n",
        "criterion = nn.CrossEntropyLoss()\n",
        "optimizer = optim.Adam(model.parameters(), lr=1e-4)\n",
        "scheduler = optim.lr_scheduler.ReduceLROnPlateau(\n",
        "    optimizer, mode='min', patience=3, verbose=True\n",
        ")\n",
        "\n",
        "# Early‑stopping & checkpointing\n",
        "best_val_loss = float('inf')\n",
        "patience, trials = 5, 0\n",
        "checkpoint_path = '/content/models/resnet50_best.pth' # Hardeep"
      ]
    },
    {
      "cell_type": "markdown",
      "id": "2c29ad8c-195c-41e3-ab1e-e1cfdbacbd78",
      "metadata": {
        "id": "2c29ad8c-195c-41e3-ab1e-e1cfdbacbd78"
      },
      "source": [
        "**Tej's Training & Validation Functions**"
      ]
    },
    {
      "cell_type": "code",
      "execution_count": null,
      "id": "e01d7d45-009a-4d4e-85b6-26e0f1620cc4",
      "metadata": {
        "id": "e01d7d45-009a-4d4e-85b6-26e0f1620cc4"
      },
      "outputs": [],
      "source": [
        "# 9. TRAIN/VALIDATE EPOCH FUNCTIONS\n",
        "def train_one_epoch(model, loader, optimizer, criterion, device):\n",
        "    model.train()\n",
        "    total_loss, correct, total = 0.0, 0, 0\n",
        "    for imgs, labels in loader:\n",
        "        imgs, labels = imgs.to(device), labels.to(device)\n",
        "        optimizer.zero_grad()\n",
        "        outputs = model(imgs)\n",
        "        loss = criterion(outputs, labels)\n",
        "        loss.backward()\n",
        "        optimizer.step()\n",
        "        total_loss += loss.item() * imgs.size(0)\n",
        "        preds = outputs.argmax(dim=1)\n",
        "        correct += (preds == labels).sum().item()\n",
        "        total += labels.size(0)\n",
        "    return total_loss / total, correct / total\n",
        "\n",
        "def validate(model, loader, criterion, device):\n",
        "    model.eval()\n",
        "    total_loss, correct, total = 0.0, 0, 0\n",
        "    with torch.no_grad():\n",
        "        for imgs, labels in loader:\n",
        "            imgs, labels = imgs.to(device), labels.to(device)\n",
        "            outputs = model(imgs)\n",
        "            loss = criterion(outputs, labels)\n",
        "            total_loss += loss.item() * imgs.size(0)\n",
        "            preds = outputs.argmax(dim=1)\n",
        "            correct += (preds == labels).sum().item()\n",
        "            total += labels.size(0)\n",
        "    return total_loss / total, correct / total"
      ]
    },
    {
      "cell_type": "markdown",
      "id": "d2fae81f-cfa5-4044-a870-04e598ef519e",
      "metadata": {
        "id": "d2fae81f-cfa5-4044-a870-04e598ef519e"
      },
      "source": [
        "**Tej's Main Training Loop**"
      ]
    },
    {
      "cell_type": "code",
      "execution_count": null,
      "id": "03bcb121-5b55-4218-a4f4-c36277a313b8",
      "metadata": {
        "colab": {
          "base_uri": "https://localhost:8080/"
        },
        "id": "03bcb121-5b55-4218-a4f4-c36277a313b8",
        "outputId": "e18fc9cc-8fc1-4b20-a1dd-c9b01eea8553"
      },
      "outputs": [
        {
          "output_type": "stream",
          "name": "stdout",
          "text": [
            "Epoch 1/20 | Train Loss: 0.5152, Train Acc: 0.8309 | Val Loss:   0.2719, Val Acc:   0.9098\n",
            "Epoch 2/20 | Train Loss: 0.2643, Train Acc: 0.9131 | Val Loss:   0.3478, Val Acc:   0.8781\n",
            "Epoch 3/20 | Train Loss: 0.2070, Train Acc: 0.9328 | Val Loss:   0.3015, Val Acc:   0.9123\n",
            "Epoch 4/20 | Train Loss: 0.1690, Train Acc: 0.9445 | Val Loss:   0.1661, Val Acc:   0.9451\n",
            "Epoch 5/20 | Train Loss: 0.1471, Train Acc: 0.9500 | Val Loss:   0.1516, Val Acc:   0.9554\n",
            "Epoch 6/20 | Train Loss: 0.1275, Train Acc: 0.9590 | Val Loss:   0.1079, Val Acc:   0.9652\n",
            "Epoch 7/20 | Train Loss: 0.1175, Train Acc: 0.9610 | Val Loss:   0.1835, Val Acc:   0.9420\n",
            "Epoch 8/20 | Train Loss: 0.1046, Train Acc: 0.9661 | Val Loss:   0.1174, Val Acc:   0.9629\n",
            "Epoch 9/20 | Train Loss: 0.1033, Train Acc: 0.9649 | Val Loss:   0.1024, Val Acc:   0.9683\n",
            "Epoch 10/20 | Train Loss: 0.0939, Train Acc: 0.9684 | Val Loss:   0.1085, Val Acc:   0.9650\n",
            "Epoch 11/20 | Train Loss: 0.0826, Train Acc: 0.9721 | Val Loss:   0.1414, Val Acc:   0.9569\n",
            "Epoch 12/20 | Train Loss: 0.0806, Train Acc: 0.9745 | Val Loss:   0.1336, Val Acc:   0.9601\n",
            "Epoch 13/20 | Train Loss: 0.0752, Train Acc: 0.9748 | Val Loss:   0.2808, Val Acc:   0.9141\n",
            "Epoch 14/20 | Train Loss: 0.0383, Train Acc: 0.9873 | Val Loss:   0.0528, Val Acc:   0.9842\n",
            "Epoch 15/20 | Train Loss: 0.0265, Train Acc: 0.9915 | Val Loss:   0.0471, Val Acc:   0.9868\n",
            "Epoch 16/20 | Train Loss: 0.0238, Train Acc: 0.9917 | Val Loss:   0.0451, Val Acc:   0.9866\n",
            "Epoch 17/20 | Train Loss: 0.0211, Train Acc: 0.9936 | Val Loss:   0.0479, Val Acc:   0.9864\n",
            "Epoch 18/20 | Train Loss: 0.0184, Train Acc: 0.9942 | Val Loss:   0.0467, Val Acc:   0.9853\n",
            "Epoch 19/20 | Train Loss: 0.0186, Train Acc: 0.9942 | Val Loss:   0.0472, Val Acc:   0.9853\n",
            "Epoch 20/20 | Train Loss: 0.0162, Train Acc: 0.9947 | Val Loss:   0.0516, Val Acc:   0.9833\n"
          ]
        }
      ],
      "source": [
        "# RUN TRAINING\n",
        "num_epochs = 20\n",
        "train_losses, val_losses = [], []\n",
        "train_accs, val_accs = [], []\n",
        "\n",
        "for epoch in range(1, num_epochs+1):\n",
        "    train_loss, train_acc = train_one_epoch(model, train_loader, optimizer, criterion, device)\n",
        "    val_loss, val_acc     = validate(model, val_loader, criterion, device)\n",
        "    scheduler.step(val_loss)\n",
        "\n",
        "    train_losses.append(train_loss)\n",
        "    val_losses.append(val_loss)\n",
        "    train_accs.append(train_acc)\n",
        "    val_accs.append(val_acc)\n",
        "\n",
        "    print(f\"Epoch {epoch}/{num_epochs} | \"\n",
        "          f\"Train Loss: {train_loss:.4f}, Train Acc: {train_acc:.4f} | \"\n",
        "          f\"Val Loss:   {val_loss:.4f}, Val Acc:   {val_acc:.4f}\")\n",
        "\n",
        "    # Early stopping logic\n",
        "    if val_loss < best_val_loss:\n",
        "        best_val_loss = val_loss\n",
        "        torch.save(model.state_dict(), checkpoint_path)\n",
        "        trials = 0\n",
        "    else:\n",
        "        trials += 1\n",
        "        if trials >= patience:\n",
        "            print(\"Early stopping—no improvement in validation loss.\")\n",
        "            break"
      ]
    },
    {
      "cell_type": "markdown",
      "id": "4643eaa6-e96d-418a-9892-33033f8b1e77",
      "metadata": {
        "id": "4643eaa6-e96d-418a-9892-33033f8b1e77"
      },
      "source": [
        "**Tej's Visualissations**"
      ]
    },
    {
      "cell_type": "code",
      "execution_count": null,
      "id": "9dd5dcc3-f679-4042-b052-d7f536a03b6e",
      "metadata": {
        "colab": {
          "base_uri": "https://localhost:8080/",
          "height": 1000
        },
        "id": "9dd5dcc3-f679-4042-b052-d7f536a03b6e",
        "outputId": "6af296bb-d7db-4936-dbd2-5eb94b1cea8f"
      },
      "outputs": [
        {
          "output_type": "stream",
          "name": "stderr",
          "text": [
            "Exception ignored in: <function _MultiProcessingDataLoaderIter.__del__ at 0x797bc0778540>\n",
            "Traceback (most recent call last):\n",
            "  File \"/usr/local/lib/python3.11/dist-packages/torch/utils/data/dataloader.py\", line 1618, in __del__\n",
            "    self._shutdown_workers()\n",
            "  File \"/usr/local/lib/python3.11/dist-packages/torch/utils/data/dataloader.py\", line 1582, in _shutdown_workers\n",
            "    w.join(timeout=_utils.MP_STATUS_CHECK_INTERVAL)\n",
            "  File \"/usr/lib/python3.11/multiprocessing/process.py\", line 149, in join\n",
            "    res = self._popen.wait(timeout)\n",
            "          ^^^^^^^^^^^^^^^^^^^^^^^^^\n",
            "  File \"/usr/lib/python3.11/multiprocessing/popen_fork.py\", line 40, in wait\n",
            "    if not wait([self.sentinel], timeout):\n",
            "           ^^^^^^^^^^^^^^^^^^^^^^^^^^^^^^\n",
            "  File \"/usr/lib/python3.11/multiprocessing/connection.py\", line 948, in wait\n",
            "    ready = selector.select(timeout)\n",
            "            ^^^^^^^^^^^^^^^^^^^^^^^^\n",
            "  File \"/usr/lib/python3.11/selectors.py\", line 415, in select\n",
            "    fd_event_list = self._selector.poll(timeout)\n",
            "                    ^^^^^^^^^^^^^^^^^^^^^^^^^^^^\n",
            "KeyboardInterrupt: \n",
            "Exception ignored in: <function _MultiProcessingDataLoaderIter.__del__ at 0x797bc0778540>\n",
            "Traceback (most recent call last):\n",
            "  File \"/usr/local/lib/python3.11/dist-packages/torch/utils/data/dataloader.py\", line 1618, in __del__\n",
            "    self._shutdown_workers()\n",
            "  File \"/usr/local/lib/python3.11/dist-packages/torch/utils/data/dataloader.py\", line 1582, in _shutdown_workers\n",
            "    w.join(timeout=_utils.MP_STATUS_CHECK_INTERVAL)\n",
            "  File \"/usr/lib/python3.11/multiprocessing/process.py\", line 149, in join\n",
            "    res = self._popen.wait(timeout)\n",
            "          ^^^^^^^^^^^^^^^^^^^^^^^^^\n",
            "  File \"/usr/lib/python3.11/multiprocessing/popen_fork.py\", line 40, in wait\n",
            "    if not wait([self.sentinel], timeout):\n",
            "           ^^^^^^^^^^^^^^^^^^^^^^^^^^^^^^\n",
            "  File \"/usr/lib/python3.11/multiprocessing/connection.py\", line 948, in wait\n",
            "    ready = selector.select(timeout)\n",
            "            ^^^^^^^^^^^^^^^^^^^^^^^^\n",
            "  File \"/usr/lib/python3.11/selectors.py\", line 415, in select\n",
            "    fd_event_list = self._selector.poll(timeout)\n",
            "                    ^^^^^^^^^^^^^^^^^^^^^^^^^^^^\n",
            "KeyboardInterrupt: \n"
          ]
        },
        {
          "output_type": "display_data",
          "data": {
            "text/plain": [
              "<Figure size 1200x500 with 2 Axes>"
            ],
            "image/png": "[encoded data removed]"
          },
          "metadata": {}
        }
      ],
      "source": [
        "# VISUALISE LOSS & ACCURACY\n",
        "plt.figure(figsize=(12,5))\n",
        "\n",
        "plt.subplot(1,2,1)\n",
        "plt.plot(train_losses, label='Train Loss')\n",
        "plt.plot(val_losses,   label='Val Loss')\n",
        "plt.legend()\n",
        "plt.title('Loss Curves')\n",
        "\n",
        "plt.subplot(1,2,2)\n",
        "plt.plot(train_accs, label='Train Acc')\n",
        "plt.plot(val_accs,   label='Val Acc')\n",
        "plt.legend()\n",
        "plt.title('Accuracy Curves')\n",
        "\n",
        "plt.show()"
      ]
    },
    {
      "cell_type": "markdown",
      "id": "d010ec70-46a3-479f-b7a4-e7ef02ec66af",
      "metadata": {
        "id": "d010ec70-46a3-479f-b7a4-e7ef02ec66af"
      },
      "source": [
        "**Tej's Test Set's Evaluation MEtrics**"
      ]
    },
    {
      "cell_type": "code",
      "execution_count": null,
      "id": "6d22c697-01e2-49b5-8497-f9f35feae0fe",
      "metadata": {
        "colab": {
          "base_uri": "https://localhost:8080/"
        },
        "id": "6d22c697-01e2-49b5-8497-f9f35feae0fe",
        "outputId": "093c7c21-bd0b-472d-9b21-8ed5052e7c72"
      },
      "outputs": [
        {
          "output_type": "stream",
          "name": "stdout",
          "text": [
            "Test Loss: 0.0549, Test Accuracy: 0.9851\n"
          ]
        }
      ],
      "source": [
        "# LOAD BEST MODEL & EVALUATE ON TEST SET\n",
        "model.load_state_dict(torch.load(checkpoint_path))\n",
        "test_loss, test_acc = validate(model, test_loader, criterion, device)\n",
        "print(f\"Test Loss: {test_loss:.4f}, Test Accuracy: {test_acc:.4f}\")"
      ]
    }
  ],
  "metadata": {
    "kernelspec": {
      "display_name": "Python 3",
      "name": "python3"
    },
    "language_info": {
      "codemirror_mode": {
        "name": "ipython",
        "version": 3
      },
      "file_extension": ".py",
      "mimetype": "text/x-python",
      "name": "python",
      "nbconvert_exporter": "python",
      "pygments_lexer": "ipython3",
      "version": "3.11.1"
    },
    "colab": {
      "provenance": [],
      "gpuType": "L4",
      "toc_visible": true,
      "include_colab_link": true
    },
    "accelerator": "GPU"
  },
  "nbformat": 4,
  "nbformat_minor": 5
}